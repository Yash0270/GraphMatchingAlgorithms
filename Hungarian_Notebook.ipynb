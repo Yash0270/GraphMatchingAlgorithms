{
 "cells": [
  {
   "cell_type": "code",
   "execution_count": 43,
   "id": "9d97bc72",
   "metadata": {},
   "outputs": [],
   "source": [
    "from scipy.optimize import linear_sum_assignment\n",
    "import random\n",
    "from collections import defaultdict\n",
    "import numpy as np\n",
    "import time\n",
    "import pickle\n",
    "import csv\n",
    "import scipy as sp\n",
    "import pandas as pd"
   ]
  },
  {
   "cell_type": "code",
   "execution_count": 87,
   "id": "b3370ec3",
   "metadata": {},
   "outputs": [],
   "source": [
    "def parse_yelp(num_users_str):\n",
    "    file_path = './yelp_dataset_' + num_users_str + '_users.pkl'\n",
    "    infile = open(file_path,'rb')\n",
    "    df = pickle.load(infile)\n",
    "    G = defaultdict(dict)\n",
    "    infile.close()\n",
    "\n",
    "    user_id_map, review_id_map = {}, {}\n",
    "    unique_user_ids, unique_review_ids = df.user_id.unique(), df.review_id.unique()\n",
    "    for i, user_id in enumerate(unique_user_ids):\n",
    "        user_id_map[user_id] = i\n",
    "    for i, review_id in enumerate(unique_review_ids):\n",
    "        review_id_map[review_id] = i  \n",
    "\n",
    "    for user_id, review_id in zip(df['user_id'], df['review_id']):\n",
    "        G[user_id][review_id] = 1\n",
    "    \n",
    "    matrix = [[0 for j in range(len(unique_review_ids))] for i in range(len(unique_user_ids))]\n",
    "    \n",
    "    for user_id in G:\n",
    "        for review_id in G[user_id].keys():\n",
    "            matrix[user_id_map[user_id]][review_id_map[review_id]] = 1\n",
    "\n",
    "    return matrix\n",
    "    \n",
    "\n",
    "matrix_8000 = parse_yelp('8000')\n"
   ]
  },
  {
   "cell_type": "code",
   "execution_count": 88,
   "id": "c51b8fa6",
   "metadata": {},
   "outputs": [
    {
     "name": "stdout",
     "output_type": "stream",
     "text": [
      "Run Time:  4.715924978256226 seconds\n",
      "7548\n"
     ]
    }
   ],
   "source": [
    "def compute_maximum_matching(A):\n",
    "    start = time.time()\n",
    "    A = np.array(A)\n",
    "    row_ind, col_ind = linear_sum_assignment(A, maximize=True)\n",
    "    end = time.time()\n",
    "    print(\"Run Time: \", end - start, \"seconds\")\n",
    "    return A[row_ind, col_ind].sum()\n",
    "\n",
    "print(compute_maximum_matching(matrix_8000))"
   ]
  },
  {
   "cell_type": "code",
   "execution_count": 22,
   "id": "27581227",
   "metadata": {},
   "outputs": [],
   "source": [
    "def create_bipartite_graph(x, y, num_edges):\n",
    "    matrix = [[0 for j in range(y)] for i in range(x)]\n",
    "    for i in range(x):\n",
    "        indices = list(range(y))\n",
    "        choices = set(random.sample(indices, k=num_edges))\n",
    "        for j in range(y):\n",
    "            if j in choices:\n",
    "                matrix[i][j] = 1\n",
    "    return matrix\n"
   ]
  },
  {
   "cell_type": "code",
   "execution_count": 23,
   "id": "2831b05a",
   "metadata": {},
   "outputs": [
    {
     "name": "stderr",
     "output_type": "stream",
     "text": [
      "IOPub data rate exceeded.\n",
      "The notebook server will temporarily stop sending output\n",
      "to the client in order to avoid crashing it.\n",
      "To change this limit, set the config variable\n",
      "`--NotebookApp.iopub_data_rate_limit`.\n",
      "\n",
      "Current values:\n",
      "NotebookApp.iopub_data_rate_limit=1000000.0 (bytes/sec)\n",
      "NotebookApp.rate_limit_window=3.0 (secs)\n",
      "\n"
     ]
    },
    {
     "name": "stdout",
     "output_type": "stream",
     "text": [
      "Run Time:  0.7442131042480469 seconds\n",
      "Maximum Matching:  1000\n"
     ]
    }
   ],
   "source": [
    "x, y, num_edges = 1000, 10000, 2\n",
    "G = create_bipartite_graph(x, y, num_edges)\n",
    "for row in G:\n",
    "    print(row)\n",
    "print(\"Computed\", x, y, num_edges)\n",
    "print(\"Maximum Matching: \", compute_maximum_matching(G))"
   ]
  },
  {
   "cell_type": "code",
   "execution_count": 24,
   "id": "9e552d20",
   "metadata": {},
   "outputs": [
    {
     "name": "stdout",
     "output_type": "stream",
     "text": [
      "Computed 100 100 1\n",
      "Run Time:  0.0017778873443603516 seconds\n",
      "Maximum Matching:  60\n"
     ]
    }
   ],
   "source": [
    "x, y, num_edges = 100, 100, 1\n",
    "G = create_bipartite_graph(x, y, num_edges)\n",
    "print(\"Computed\", x, y, num_edges)\n",
    "print(\"Maximum Matching: \", compute_maximum_matching(G))"
   ]
  },
  {
   "cell_type": "code",
   "execution_count": 25,
   "id": "6d568eaf",
   "metadata": {},
   "outputs": [
    {
     "name": "stdout",
     "output_type": "stream",
     "text": [
      "Computed 1000 1000 10\n",
      "Run Time:  0.08113217353820801 seconds\n",
      "Maximum Matching:  1000\n"
     ]
    }
   ],
   "source": [
    "x, y, num_edges = 1000, 1000, 10\n",
    "G = create_bipartite_graph(x, y, num_edges)\n",
    "print(\"Computed\", x, y, num_edges)\n",
    "print(\"Maximum Matching: \", compute_maximum_matching(G))"
   ]
  },
  {
   "cell_type": "code",
   "execution_count": 29,
   "id": "9e2298ac",
   "metadata": {},
   "outputs": [
    {
     "name": "stdout",
     "output_type": "stream",
     "text": [
      "Run Time:  0.0004937648773193359 seconds\n",
      "32\n"
     ]
    }
   ],
   "source": [
    "def parse_sports():\n",
    "    rows = []\n",
    "    file = open('players.csv')\n",
    "    csvreader = csv.reader(file)\n",
    "    for row in csvreader:\n",
    "        rows.append(row)\n",
    "    rows = rows[1:]\n",
    "    country_idx_map, i = {}, 0\n",
    "    for source, dest, _ in rows:\n",
    "        if source not in country_idx_map:\n",
    "            country_idx_map[source] = i\n",
    "            i += 1\n",
    "        if dest not in country_idx_map:\n",
    "            country_idx_map[dest] = i\n",
    "            i += 1\n",
    "    num_countries = len(country_idx_map)\n",
    "    matrix = [[0 for i in range(num_countries)]\\\n",
    "                 for j in range(num_countries)]\n",
    "    \n",
    "    for source, dest, _ in rows:\n",
    "        matrix[country_idx_map[source]][country_idx_map[dest]] = 1\n",
    "    \n",
    "    return matrix\n",
    "        \n",
    "\n",
    "sports_matrix = parse_sports()\n",
    "print(compute_maximum_matching(sports_matrix))"
   ]
  },
  {
   "cell_type": "code",
   "execution_count": 33,
   "id": "b559f8be",
   "metadata": {},
   "outputs": [
    {
     "name": "stdout",
     "output_type": "stream",
     "text": [
      "Run Time:  68.944495677948 seconds\n",
      "601\n"
     ]
    }
   ],
   "source": [
    "def parse_members():\n",
    "    rows = []\n",
    "    file = open('member-to-group-edges.csv')\n",
    "    csvreader = csv.reader(file)\n",
    "    for row in csvreader:\n",
    "        rows.append(row)\n",
    "    rows = rows[1:]\n",
    "    idx_map, i = {}, 0\n",
    "    for source, dest, _ in rows:\n",
    "        if source not in idx_map:\n",
    "            idx_map[source] = i\n",
    "            i += 1\n",
    "        if dest not in idx_map:\n",
    "            idx_map[dest] = i\n",
    "            i += 1\n",
    "    n = len(idx_map)\n",
    "    matrix = [[0 for i in range(n)]\\\n",
    "                 for j in range(n)]\n",
    "    \n",
    "    for source, dest, _ in rows:\n",
    "        matrix[idx_map[source]][idx_map[dest]] = 1\n",
    "    \n",
    "    return matrix\n",
    "\n",
    "members_matrix = parse_members()\n",
    "print(compute_maximum_matching(members_matrix))"
   ]
  },
  {
   "cell_type": "code",
   "execution_count": 86,
   "id": "015a3261",
   "metadata": {},
   "outputs": [
    {
     "name": "stdout",
     "output_type": "stream",
     "text": [
      "Run Time:  0.00026106834411621094 seconds\n",
      "20\n"
     ]
    }
   ],
   "source": [
    "def parse_gn():\n",
    "    rows, idx_map, i = [], {}, 0\n",
    "    data = pd.read_csv (\"out.edit-gnwikibooks\", sep = '\\t')\n",
    "    for row in data.iterrows():\n",
    "        rows.append([row[0][0], row[0][1]])\n",
    "        \n",
    "    idx_map, i = {}, 0\n",
    "    for source, dest in rows:\n",
    "        if source not in idx_map:\n",
    "            idx_map[source] = i\n",
    "            i += 1\n",
    "        if dest not in idx_map:\n",
    "            idx_map[dest] = i\n",
    "            i += 1\n",
    "    n = len(idx_map)\n",
    "    matrix = [[0 for i in range(n)]\\\n",
    "                 for j in range(n)]\n",
    "    \n",
    "    for source, dest in rows:\n",
    "        matrix[idx_map[source]][idx_map[dest]] = 1\n",
    "    \n",
    "    return matrix\n",
    "gn_matrix = parse_gn()\n",
    "print(compute_maximum_matching(gn_matrix))"
   ]
  },
  {
   "cell_type": "code",
   "execution_count": 103,
   "id": "c1452127",
   "metadata": {},
   "outputs": [
    {
     "name": "stdout",
     "output_type": "stream",
     "text": [
      "Run Time:  0.00012373924255371094 seconds\n",
      "15\n"
     ]
    }
   ],
   "source": [
    "def parse_bronson():\n",
    "    rows, idx_map, i = [], {}, 0\n",
    "    data = pd.read_csv (\"out.brunson_club-membership_club-membership.tsv\", sep = '\\t')\n",
    "    for row in data.iterrows():\n",
    "        split = row[1][0].split(\" \")\n",
    "        rows.append([split[0], split[1]])\n",
    "    idx_map, i = {}, 0\n",
    "    for source, dest in rows:\n",
    "        if source not in idx_map:\n",
    "            idx_map[source] = i\n",
    "            i += 1\n",
    "        if dest not in idx_map:\n",
    "            idx_map[dest] = i\n",
    "            i += 1\n",
    "    n = len(idx_map)\n",
    "    matrix = [[0 for i in range(n)]\\\n",
    "                 for j in range(n)]\n",
    "    \n",
    "    for source, dest in rows:\n",
    "        matrix[idx_map[source]][idx_map[dest]] = 1\n",
    "    \n",
    "    return matrix\n",
    "bronson_matrix = parse_bronson()\n",
    "print(compute_maximum_matching(bronson_matrix))"
   ]
  },
  {
   "cell_type": "code",
   "execution_count": null,
   "id": "b18eba87",
   "metadata": {},
   "outputs": [],
   "source": []
  }
 ],
 "metadata": {
  "kernelspec": {
   "display_name": "Python 3 (ipykernel)",
   "language": "python",
   "name": "python3"
  },
  "language_info": {
   "codemirror_mode": {
    "name": "ipython",
    "version": 3
   },
   "file_extension": ".py",
   "mimetype": "text/x-python",
   "name": "python",
   "nbconvert_exporter": "python",
   "pygments_lexer": "ipython3",
   "version": "3.8.8"
  }
 },
 "nbformat": 4,
 "nbformat_minor": 5
}
