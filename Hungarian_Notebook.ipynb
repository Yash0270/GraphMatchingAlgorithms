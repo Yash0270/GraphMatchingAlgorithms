{
 "cells": [
  {
   "cell_type": "code",
   "execution_count": 1,
   "id": "9d97bc72",
   "metadata": {},
   "outputs": [],
   "source": [
    "from scipy.optimize import linear_sum_assignment\n",
    "import random\n",
    "from collections import defaultdict\n",
    "import numpy as np\n",
    "import time\n",
    "import pickle"
   ]
  },
  {
   "cell_type": "code",
   "execution_count": 2,
   "id": "b3370ec3",
   "metadata": {},
   "outputs": [],
   "source": [
    "def parse_yelp(num_users_str):\n",
    "    file_path = './yelp_dataset_' + num_users_str + '_users.pkl'\n",
    "    infile = open(file_path,'rb')\n",
    "    df = pickle.load(infile)\n",
    "    G = defaultdict(dict)\n",
    "    infile.close()\n",
    "\n",
    "    user_id_map, review_id_map = {}, {}\n",
    "    unique_user_ids, unique_review_ids = df.user_id.unique(), df.review_id.unique()\n",
    "    for i, user_id in enumerate(unique_user_ids):\n",
    "        user_id_map[user_id] = i\n",
    "    for i, review_id in enumerate(unique_review_ids):\n",
    "        review_id_map[review_id] = i  \n",
    "\n",
    "    for user_id, review_id in zip(df['user_id'], df['review_id']):\n",
    "        G[user_id][review_id] = 1\n",
    "    \n",
    "    matrix = [[0 for j in range(len(unique_review_ids))] for i in range(len(unique_user_ids))]\n",
    "    \n",
    "    for user_id in G:\n",
    "        for review_id in G[user_id].keys():\n",
    "            matrix[user_id_map[user_id]][review_id_map[review_id]] = 1\n",
    "\n",
    "    return matrix\n",
    "    \n",
    "\n",
    "matrix_8000 = parse_yelp('8000')\n",
    "# matrix_80k = parse_yelp('80K')\n",
    "# matrix_800k = parse_yelp('800K')\n",
    "\n",
    "# print(linear_sum_assignment(matrix_800k, maximize=True))\n"
   ]
  },
  {
   "cell_type": "code",
   "execution_count": 7,
   "id": "c51b8fa6",
   "metadata": {},
   "outputs": [
    {
     "name": "stdout",
     "output_type": "stream",
     "text": [
      "Run Time:  4.4470391273498535 seconds\n",
      "7548\n"
     ]
    }
   ],
   "source": [
    "def compute_maximum_matching_yelp(A):\n",
    "    start = time.time()\n",
    "    A = np.array(A)\n",
    "    row_ind, col_ind = linear_sum_assignment(A, maximize=True)\n",
    "    end = time.time()\n",
    "    print(\"Run Time: \", end - start, \"seconds\")\n",
    "    return A[row_ind, col_ind].sum()\n",
    "\n",
    "print(compute_maximum_matching_yelp(matrix_8000))"
   ]
  },
  {
   "cell_type": "code",
   "execution_count": 17,
   "id": "c94d9c2e",
   "metadata": {},
   "outputs": [
    {
     "name": "stdout",
     "output_type": "stream",
     "text": [
      "computed\n",
      "Run Time:  0.09799599647521973 seconds\n",
      "994\n"
     ]
    }
   ],
   "source": [
    "def create_bipartite_graph(x, y, num_edges):\n",
    "    matrix = [[0 for j in range(y)] for i in range(x)]\n",
    "    for i in range(x):\n",
    "        indices = list(range(y))\n",
    "        choices = set(random.choices(indices, k=num_edges))\n",
    "        for j in range(y):\n",
    "            if j in choices:\n",
    "                matrix[i][j] = 1\n",
    "    return matrix\n",
    "\n",
    "G = create_bipartite_graph(1000, 1000, 5)\n",
    "print(\"computed\")\n",
    "print(compute_maximum_matching_yelp(G))\n",
    "    "
   ]
  },
  {
   "cell_type": "code",
   "execution_count": null,
   "id": "f11b24bd",
   "metadata": {},
   "outputs": [],
   "source": []
  }
 ],
 "metadata": {
  "kernelspec": {
   "display_name": "Python 3 (ipykernel)",
   "language": "python",
   "name": "python3"
  },
  "language_info": {
   "codemirror_mode": {
    "name": "ipython",
    "version": 3
   },
   "file_extension": ".py",
   "mimetype": "text/x-python",
   "name": "python",
   "nbconvert_exporter": "python",
   "pygments_lexer": "ipython3",
   "version": "3.8.8"
  }
 },
 "nbformat": 4,
 "nbformat_minor": 5
}
