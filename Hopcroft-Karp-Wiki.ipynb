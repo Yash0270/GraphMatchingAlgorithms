{
 "cells": [
  {
   "cell_type": "code",
   "execution_count": 11,
   "id": "62591995",
   "metadata": {},
   "outputs": [
    {
     "name": "stdout",
     "output_type": "stream",
     "text": [
      "Requirement already satisfied: hopcroftkarp in /Users/xiangzhengfei/opt/anaconda3/lib/python3.8/site-packages (1.2.5)\r\n"
     ]
    }
   ],
   "source": [
    "!pip3 install hopcroftkarp\n",
    "from hopcroftkarp import HopcroftKarp\n",
    "import csv\n",
    "import datetime"
   ]
  },
  {
   "cell_type": "code",
   "execution_count": 12,
   "id": "45bf41df",
   "metadata": {},
   "outputs": [
    {
     "name": "stdout",
     "output_type": "stream",
     "text": [
      "{'a': {'2', '1'}, 'b': {'3'}, 'c': {'5', '4'}, 'd': {'6'}, 'e': {'11', '8', '7', '9'}, 'f': {'8', '21', '20'}, 'g': {'10'}, 'h': {'31', '30', '12', '28', '29', '32'}, 'i': {'13'}, 'j': {'14', '15'}, 'k': {'16'}, 'l': {'17'}, 'm': {'19', '23', '18'}, 'n': {'27', '22'}, 'o': {'25', '24'}, 'p': {'26'}, 'q': {'26'}, 'r': {'29', '38', '39', '30'}, 's': {'36', '35', '33'}, 't': {'35', '36', '34', '33', '37'}, 'u': {'42', '40', '41', '47', '43', '46', '45', '44'}}\n"
     ]
    }
   ],
   "source": [
    "tsv_file = open(\"out.edit-gnwikibooks\")\n",
    "read_tsv = csv.reader(tsv_file,delimiter=\"\\t\",quotechar='\\'')\n",
    "pairs = {}\n",
    "for row in read_tsv:\n",
    "    #print(row)\n",
    "    #parsed = row[0].split(\" \")\n",
    "    node1 = chr(int(row[0])+  ord('a') - 1)\n",
    "    node2 = row[1]\n",
    "    pairs.setdefault(node1,set()).add(node2)\n",
    "print(pairs)\n",
    "tsv_file.close()"
   ]
  },
  {
   "cell_type": "markdown",
   "id": "04a07240",
   "metadata": {},
   "source": [
    "# Matching"
   ]
  },
  {
   "cell_type": "code",
   "execution_count": 13,
   "id": "35fa1259",
   "metadata": {},
   "outputs": [],
   "source": [
    "def matching(pairs):\n",
    "    start = datetime.datetime.now()\n",
    "    matching = HopcroftKarp(pairs).maximum_matching(keys_only=True)\n",
    "    end = datetime.datetime.now()\n",
    "    print (\"the running time is: \", end - start,\"\\n\")\n",
    "    print (\"the number of max matching is: \", len(matching),\"\\n\")\n",
    "    print (\"the matching details are: \", matching)"
   ]
  },
  {
   "cell_type": "code",
   "execution_count": 14,
   "id": "a0dfa6e7",
   "metadata": {},
   "outputs": [
    {
     "name": "stdout",
     "output_type": "stream",
     "text": [
      "the running time is:  0:00:00.000518 \n",
      "\n",
      "the number of max matching is:  20 \n",
      "\n",
      "the matching details are:  {'a': '1', 'u': '40', 'c': '5', 'm': '18', 'e': '11', 't': '37', 'd': '6', 'f': '21', 'k': '16', 'r': '30', 'n': '27', 'o': '24', 'h': '29', 'q': '26', 'j': '14', 's': '35', 'g': '10', 'b': '3', 'l': '17', 'i': '13'}\n"
     ]
    }
   ],
   "source": [
    "matching(pairs)"
   ]
  }
 ],
 "metadata": {
  "kernelspec": {
   "display_name": "Python 3",
   "language": "python",
   "name": "python3"
  },
  "language_info": {
   "codemirror_mode": {
    "name": "ipython",
    "version": 3
   },
   "file_extension": ".py",
   "mimetype": "text/x-python",
   "name": "python",
   "nbconvert_exporter": "python",
   "pygments_lexer": "ipython3",
   "version": "3.8.8"
  }
 },
 "nbformat": 4,
 "nbformat_minor": 5
}
