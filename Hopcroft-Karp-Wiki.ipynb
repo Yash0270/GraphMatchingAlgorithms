{
 "cells": [
  {
   "cell_type": "code",
   "execution_count": 1,
   "id": "62591995",
   "metadata": {},
   "outputs": [
    {
     "name": "stdout",
     "output_type": "stream",
     "text": [
      "Requirement already satisfied: hopcroftkarp in /Users/xiangzhengfei/opt/anaconda3/lib/python3.8/site-packages (1.2.5)\r\n"
     ]
    }
   ],
   "source": [
    "!pip3 install hopcroftkarp\n",
    "from hopcroftkarp import HopcroftKarp\n",
    "import csv\n",
    "import datetime"
   ]
  },
  {
   "cell_type": "code",
   "execution_count": 2,
   "id": "45bf41df",
   "metadata": {},
   "outputs": [
    {
     "name": "stdout",
     "output_type": "stream",
     "text": [
      "{'1': {'2', '1'}, '2': {'3'}, '3': {'4', '5'}, '4': {'6'}, '5': {'11', '7', '9', '8'}, '6': {'8', '20', '21'}, '7': {'10'}, '8': {'31', '30', '28', '12', '29', '32'}, '9': {'13'}, '10': {'15', '14'}, '11': {'16'}, '12': {'17'}, '13': {'23', '18', '19'}, '14': {'27', '22'}, '15': {'25', '24'}, '16': {'26'}, '17': {'26'}, '18': {'29', '38', '30', '39'}, '19': {'33', '35', '36'}, '20': {'35', '37', '33', '34', '36'}, '21': {'47', '43', '41', '45', '40', '42', '46', '44'}}\n"
     ]
    }
   ],
   "source": [
    "tsv_file = open(\"out.edit-gnwikibooks\")\n",
    "read_tsv = csv.reader(tsv_file,delimiter=\"\\t\",quotechar='\\'')\n",
    "pairs = {}\n",
    "for row in read_tsv:\n",
    "    #print(row)\n",
    "    #parsed = row[0].split(\" \")\n",
    "    node1 = row[0]\n",
    "    node2 = row[1]\n",
    "    pairs.setdefault(node1,set()).add(node2)\n",
    "print(pairs)\n",
    "tsv_file.close()"
   ]
  },
  {
   "cell_type": "markdown",
   "id": "04a07240",
   "metadata": {},
   "source": [
    "# Matching"
   ]
  },
  {
   "cell_type": "code",
   "execution_count": 3,
   "id": "35fa1259",
   "metadata": {},
   "outputs": [],
   "source": [
    "def matching(pairs):\n",
    "    start = datetime.datetime.now()\n",
    "    matching = HopcroftKarp(pairs).maximum_matching(keys_only=True)\n",
    "    end = datetime.datetime.now()\n",
    "    print (\"the running time is: \", end - start,\"\\n\")\n",
    "    print (\"the number of max matching is: \", len(matching),\"\\n\")\n",
    "    print (\"the matching details are: \", matching)"
   ]
  },
  {
   "cell_type": "code",
   "execution_count": 4,
   "id": "a0dfa6e7",
   "metadata": {},
   "outputs": [
    {
     "name": "stdout",
     "output_type": "stream",
     "text": [
      "the running time is:  0:00:00.000324 \n",
      "\n",
      "the number of max matching is:  21 \n",
      "\n",
      "the matching details are:  {'10': '15', '15': '10', '20': '35', '8': '29', '11': '16', '16': '11', '21': '46', '14': '27', '9': '13', '13': '9', '17': '12', '12': '17', '6': '4', '4': '6', '18': '30', '1': '2', '2': '1', '19': '33', '7': '5', '5': '3', '3': '5'}\n"
     ]
    }
   ],
   "source": [
    "matching(pairs)"
   ]
  }
 ],
 "metadata": {
  "kernelspec": {
   "display_name": "Python 3",
   "language": "python",
   "name": "python3"
  },
  "language_info": {
   "codemirror_mode": {
    "name": "ipython",
    "version": 3
   },
   "file_extension": ".py",
   "mimetype": "text/x-python",
   "name": "python",
   "nbconvert_exporter": "python",
   "pygments_lexer": "ipython3",
   "version": "3.8.8"
  }
 },
 "nbformat": 4,
 "nbformat_minor": 5
}
