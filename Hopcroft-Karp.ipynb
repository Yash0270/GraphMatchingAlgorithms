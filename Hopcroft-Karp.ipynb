{
 "cells": [
  {
   "cell_type": "code",
   "execution_count": 9,
   "id": "6de7a890",
   "metadata": {},
   "outputs": [
    {
     "name": "stdout",
     "output_type": "stream",
     "text": [
      "Requirement already satisfied: hopcroftkarp in /Users/xiangzhengfei/opt/anaconda3/lib/python3.8/site-packages (1.2.5)\r\n"
     ]
    }
   ],
   "source": [
    "!pip3 install hopcroftkarp\n",
    "from hopcroftkarp import HopcroftKarp\n",
    "import random\n",
    "import datetime\n",
    "import pickle\n",
    "import csv"
   ]
  },
  {
   "cell_type": "markdown",
   "id": "d29e1f00",
   "metadata": {},
   "source": [
    "# Yelp Data"
   ]
  },
  {
   "cell_type": "code",
   "execution_count": 5,
   "id": "f2df1678",
   "metadata": {},
   "outputs": [],
   "source": [
    "with open('yelp_dataset_800K_users.pkl', 'rb') as f:\n",
    "    data = pickle.load(f)\n",
    "    \n",
    "pairs = {}\n",
    "for i in range(8000):\n",
    "    pairs.setdefault(data['user_id'][i],set()).add(data['review_id'][i])\n",
    "\n",
    "#print(len(pairs.keys()))\n",
    "\n",
    "start = datetime.datetime.now()\n",
    "matching = HopcroftKarp(pairs).maximum_matching(keys_only=True)\n",
    "end = datetime.datetime.now()"
   ]
  },
  {
   "cell_type": "code",
   "execution_count": 6,
   "id": "1a9d1523",
   "metadata": {},
   "outputs": [
    {
     "name": "stdout",
     "output_type": "stream",
     "text": [
      "The running time on Yelp data is 0:00:00.074776\n",
      "The max matching number on Yelp data is 7548\n"
     ]
    }
   ],
   "source": [
    "print (\"The running time on Yelp data is\",end-start)\n",
    "print(\"The max matching number on Yelp data is\",len(matching))"
   ]
  },
  {
   "cell_type": "markdown",
   "id": "1413abd3",
   "metadata": {},
   "source": [
    "# member-to-group & FIFA Data"
   ]
  },
  {
   "cell_type": "code",
   "execution_count": 10,
   "id": "535d025b",
   "metadata": {},
   "outputs": [],
   "source": [
    "def parseData(filename):\n",
    "    pairs = {}\n",
    "    with open(filename, newline='') as csvfile:\n",
    "        reader = csv.reader(csvfile, delimiter=',')\n",
    "        for row in reader:\n",
    "            left = row[0]\n",
    "            right = row[1]\n",
    "            pairs.setdefault(left,set()).add(right)\n",
    "    return pairs"
   ]
  },
  {
   "cell_type": "code",
   "execution_count": 18,
   "id": "bdce198a",
   "metadata": {},
   "outputs": [],
   "source": [
    "member2group = parseData(\"member-to-group-edges.csv\")\n",
    "players = parseData(\"players.csv\")"
   ]
  },
  {
   "cell_type": "code",
   "execution_count": 12,
   "id": "2387987a",
   "metadata": {},
   "outputs": [],
   "source": [
    "def matching(pairs):\n",
    "    start = datetime.datetime.now()\n",
    "    matching = HopcroftKarp(pairs).maximum_matching(keys_only=True)\n",
    "    end = datetime.datetime.now()\n",
    "    print (\"the running time is: \", end - start,\"\\n\")\n",
    "    print (\"the number of max matching is: \", len(matching),\"\\n\")\n",
    "    print (\"the matching details are: \", matching)"
   ]
  },
  {
   "cell_type": "markdown",
   "id": "af2f8832",
   "metadata": {},
   "source": [
    "# Synthetic Data"
   ]
  },
  {
   "cell_type": "code",
   "execution_count": 15,
   "id": "feafb459",
   "metadata": {},
   "outputs": [
    {
     "name": "stdout",
     "output_type": "stream",
     "text": [
      "[[0, 0, 1, 1, 0], [1, 0, 0, 0, 1], [0, 0, 0, 1, 1], [0, 1, 0, 0, 1], [0, 1, 0, 0, 1]]\n",
      "{'a': {2, 3}, 'b': {0, 4}, 'c': {3, 4}, 'd': {1, 4}, 'e': {1, 4}}\n"
     ]
    }
   ],
   "source": [
    "def create_bipartite_graph(x, y, num_edges):\n",
    "    pairs = {}\n",
    "    matrix = [[0 for j in range(y)] for i in range(x)]\n",
    "    for i in range(x):\n",
    "        indices = list(range(y))\n",
    "        choices = set(random.sample(indices, k=num_edges))\n",
    "        for j in range(y):\n",
    "            if j in choices:\n",
    "                matrix[i][j] = 1\n",
    "                pairs.setdefault(chr(i+ord('a')),set()).add(j)\n",
    "    print(matrix)\n",
    "    #print(pairs)\n",
    "    return pairs\n",
    "\n",
    "G = create_bipartite_graph(5, 5, 2)    \n",
    "print(G)"
   ]
  },
  {
   "cell_type": "code",
   "execution_count": 16,
   "id": "379db3a3",
   "metadata": {},
   "outputs": [
    {
     "name": "stdout",
     "output_type": "stream",
     "text": [
      "0:00:00.000208\n"
     ]
    }
   ],
   "source": [
    "start = datetime.datetime.now()\n",
    "matching2 = HopcroftKarp(G).maximum_matching(keys_only=True)\n",
    "end = datetime.datetime.now()\n",
    "print (end-start)"
   ]
  },
  {
   "cell_type": "code",
   "execution_count": 17,
   "id": "6e7e1d57",
   "metadata": {},
   "outputs": [
    {
     "name": "stdout",
     "output_type": "stream",
     "text": [
      "5\n",
      "{'b': 0, 'e': 1, 'a': 2, 'c': 3, 'd': 4}\n"
     ]
    }
   ],
   "source": [
    "print(len(matching2))\n",
    "print(matching2)"
   ]
  },
  {
   "cell_type": "code",
   "execution_count": null,
   "id": "5f512ad4",
   "metadata": {},
   "outputs": [],
   "source": []
  }
 ],
 "metadata": {
  "kernelspec": {
   "display_name": "Python 3",
   "language": "python",
   "name": "python3"
  },
  "language_info": {
   "codemirror_mode": {
    "name": "ipython",
    "version": 3
   },
   "file_extension": ".py",
   "mimetype": "text/x-python",
   "name": "python",
   "nbconvert_exporter": "python",
   "pygments_lexer": "ipython3",
   "version": "3.8.8"
  }
 },
 "nbformat": 4,
 "nbformat_minor": 5
}
